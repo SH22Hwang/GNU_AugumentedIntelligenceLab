{
  "nbformat": 4,
  "nbformat_minor": 0,
  "metadata": {
    "colab": {
      "name": "8exercise.ipynb",
      "provenance": [],
      "authorship_tag": "ABX9TyPYiI6kADR8z5rzlBgysHXW",
      "include_colab_link": true
    },
    "kernelspec": {
      "name": "python3",
      "display_name": "Python 3"
    },
    "language_info": {
      "name": "python"
    }
  },
  "cells": [
    {
      "cell_type": "markdown",
      "metadata": {
        "id": "view-in-github",
        "colab_type": "text"
      },
      "source": [
        "<a href=\"https://colab.research.google.com/github/SH22Hwang/GNU_AugumentedIntelligenceLab/blob/SH22Hwang-patch-1/Jeongbogun/8exercise.ipynb\" target=\"_parent\"><img src=\"https://colab.research.google.com/assets/colab-badge.svg\" alt=\"Open In Colab\"/></a>"
      ]
    },
    {
      "cell_type": "code",
      "metadata": {
        "id": "FWGtBxgOd-W2"
      },
      "source": [
        "import numpy as np\n",
        "import pandas as pd\n",
        "import matplotlib.pyplot as plt\n",
        "import tensorflow as tf\n",
        "from tensorflow import keras\n",
        "from sklearn.datasets import load_iris\n",
        "from sklearn.model_selection import train_test_split\n",
        "from sklearn.preprocessing import MinMaxScaler"
      ],
      "execution_count": null,
      "outputs": []
    },
    {
      "cell_type": "code",
      "metadata": {
        "id": "bqMxKQOBqIOu"
      },
      "source": [
        "iris = load_iris()\n",
        "labels= iris['target']"
      ],
      "execution_count": null,
      "outputs": []
    },
    {
      "cell_type": "code",
      "metadata": {
        "id": "2OAYS0RQss6-"
      },
      "source": [
        "features = iris['data']\n",
        "feature_names = iris['feature_names']\n",
        "df = pd.DataFrame(features, columns= feature_names)\n",
        "df['target'] = iris['target']"
      ],
      "execution_count": null,
      "outputs": []
    },
    {
      "cell_type": "code",
      "metadata": {
        "id": "3UNRZzhstiTg"
      },
      "source": [
        "x = df.iloc[:,:4]\n",
        "y = df['target']"
      ],
      "execution_count": null,
      "outputs": []
    },
    {
      "cell_type": "code",
      "metadata": {
        "id": "GVhfxktFtoph"
      },
      "source": [
        "x_train, x_test, y_train, y_test = train_test_split(x,y,train_size = 0.7,test_size=0.3, random_state=1)"
      ],
      "execution_count": null,
      "outputs": []
    },
    {
      "cell_type": "code",
      "metadata": {
        "id": "jNkv0o7zuM4T",
        "colab": {
          "base_uri": "https://localhost:8080/"
        },
        "outputId": "7fe271f6-d05a-430f-ec7c-6843fc970611"
      },
      "source": [
        "print(\"훈련용 데이터의 형태: \",x_train.shape)\n",
        "print(\"훈련용 데이터의 레이블 형태: \",y_train.shape)\n",
        "print(\"테스트용 데이터의 형태: \",x_test.shape)\n",
        "print(\"테스트용 데이터의 레이블 형태: \",y_test.shape)\n",
        "print(\"훈련용 데이터의 형태: (4,)\") # ㅈㅅ 어떻게하는건지 모르겠음"
      ],
      "execution_count": null,
      "outputs": [
        {
          "output_type": "stream",
          "name": "stdout",
          "text": [
            "훈련용 데이터의 형태:  (105, 4)\n",
            "훈련용 데이터의 레이블 형태:  (105,)\n",
            "테스트용 데이터의 형태:  (45, 4)\n",
            "테스트용 데이터의 레이블 형태:  (45,)\n",
            "훈련용 데이터의 형태: (4,)\n"
          ]
        }
      ]
    },
    {
      "cell_type": "code",
      "metadata": {
        "id": "q-DBFCvF-qe-"
      },
      "source": [
        "model = keras.models.Sequential([\n",
        "    \n",
        "    keras.layers.Dense(64,input_shape=(4,),activation='relu'),\n",
        "  ])"
      ],
      "execution_count": null,
      "outputs": []
    },
    {
      "cell_type": "code",
      "metadata": {
        "id": "Grpg-lRT-uVa"
      },
      "source": [
        "model.compile(optimizer='adam',loss='sparse_categorical_crossentropy', metrics=['accuracy'])"
      ],
      "execution_count": null,
      "outputs": []
    },
    {
      "cell_type": "code",
      "metadata": {
        "id": "XPXHf9Cc-8bq",
        "colab": {
          "base_uri": "https://localhost:8080/"
        },
        "outputId": "fa51edc9-2057-49ed-ea78-b753a7c6cd47"
      },
      "source": [
        "model.summary()\n",
        "history = model.fit(x_train, y_train, batch_size=5, epochs=30, validation_data=(x_test, y_test), validation_split= 0.3)"
      ],
      "execution_count": null,
      "outputs": [
        {
          "output_type": "stream",
          "name": "stdout",
          "text": [
            "Model: \"sequential_3\"\n",
            "_________________________________________________________________\n",
            "Layer (type)                 Output Shape              Param #   \n",
            "=================================================================\n",
            "dense_3 (Dense)              (None, 64)                320       \n",
            "=================================================================\n",
            "Total params: 320\n",
            "Trainable params: 320\n",
            "Non-trainable params: 0\n",
            "_________________________________________________________________\n",
            "Epoch 1/30\n",
            "15/15 [==============================] - 0s 13ms/step - loss: 9.6885 - accuracy: 0.0000e+00 - val_loss: 7.8350 - val_accuracy: 0.0000e+00\n",
            "Epoch 2/30\n",
            "15/15 [==============================] - 0s 3ms/step - loss: 9.4112 - accuracy: 0.0000e+00 - val_loss: 7.6029 - val_accuracy: 0.0000e+00\n",
            "Epoch 3/30\n",
            "15/15 [==============================] - 0s 3ms/step - loss: 9.1735 - accuracy: 0.0000e+00 - val_loss: 7.3673 - val_accuracy: 0.0000e+00\n",
            "Epoch 4/30\n",
            "15/15 [==============================] - 0s 4ms/step - loss: 8.9291 - accuracy: 0.0000e+00 - val_loss: 7.1401 - val_accuracy: 0.0000e+00\n",
            "Epoch 5/30\n",
            "15/15 [==============================] - 0s 3ms/step - loss: 8.7009 - accuracy: 0.0000e+00 - val_loss: 6.8970 - val_accuracy: 0.0000e+00\n",
            "Epoch 6/30\n",
            "15/15 [==============================] - 0s 4ms/step - loss: 8.4419 - accuracy: 0.0000e+00 - val_loss: 6.6389 - val_accuracy: 0.0000e+00\n",
            "Epoch 7/30\n",
            "15/15 [==============================] - 0s 4ms/step - loss: 8.2034 - accuracy: 0.0000e+00 - val_loss: 6.4766 - val_accuracy: 0.0000e+00\n",
            "Epoch 8/30\n",
            "15/15 [==============================] - 0s 3ms/step - loss: 8.0864 - accuracy: 0.0000e+00 - val_loss: 6.3855 - val_accuracy: 0.0000e+00\n",
            "Epoch 9/30\n",
            "15/15 [==============================] - 0s 3ms/step - loss: 8.0020 - accuracy: 0.0000e+00 - val_loss: 6.3249 - val_accuracy: 0.0000e+00\n",
            "Epoch 10/30\n",
            "15/15 [==============================] - 0s 4ms/step - loss: 7.9663 - accuracy: 0.0000e+00 - val_loss: 6.3194 - val_accuracy: 0.0000e+00\n",
            "Epoch 11/30\n",
            "15/15 [==============================] - 0s 3ms/step - loss: 7.9627 - accuracy: 0.0000e+00 - val_loss: 6.3175 - val_accuracy: 0.0000e+00\n",
            "Epoch 12/30\n",
            "15/15 [==============================] - 0s 4ms/step - loss: 7.9607 - accuracy: 0.0000e+00 - val_loss: 6.3145 - val_accuracy: 0.0000e+00\n",
            "Epoch 13/30\n",
            "15/15 [==============================] - 0s 3ms/step - loss: 7.9600 - accuracy: 0.0000e+00 - val_loss: 6.3132 - val_accuracy: 0.0000e+00\n",
            "Epoch 14/30\n",
            "15/15 [==============================] - 0s 3ms/step - loss: 7.9586 - accuracy: 0.0000e+00 - val_loss: 6.3122 - val_accuracy: 0.0000e+00\n",
            "Epoch 15/30\n",
            "15/15 [==============================] - 0s 4ms/step - loss: 7.9572 - accuracy: 0.0000e+00 - val_loss: 6.3140 - val_accuracy: 0.0000e+00\n",
            "Epoch 16/30\n",
            "15/15 [==============================] - 0s 3ms/step - loss: 7.9561 - accuracy: 0.0000e+00 - val_loss: 6.3101 - val_accuracy: 0.0000e+00\n",
            "Epoch 17/30\n",
            "15/15 [==============================] - 0s 3ms/step - loss: 7.9548 - accuracy: 0.0000e+00 - val_loss: 6.3092 - val_accuracy: 0.0000e+00\n",
            "Epoch 18/30\n",
            "15/15 [==============================] - 0s 3ms/step - loss: 7.9540 - accuracy: 0.0000e+00 - val_loss: 6.3080 - val_accuracy: 0.0000e+00\n",
            "Epoch 19/30\n",
            "15/15 [==============================] - 0s 3ms/step - loss: 7.9525 - accuracy: 0.0000e+00 - val_loss: 6.3087 - val_accuracy: 0.0000e+00\n",
            "Epoch 20/30\n",
            "15/15 [==============================] - 0s 3ms/step - loss: 7.9512 - accuracy: 0.0000e+00 - val_loss: 6.3071 - val_accuracy: 0.0000e+00\n",
            "Epoch 21/30\n",
            "15/15 [==============================] - 0s 3ms/step - loss: 7.9501 - accuracy: 0.0000e+00 - val_loss: 6.3074 - val_accuracy: 0.0000e+00\n",
            "Epoch 22/30\n",
            "15/15 [==============================] - 0s 4ms/step - loss: 7.9491 - accuracy: 0.0000e+00 - val_loss: 6.3061 - val_accuracy: 0.0000e+00\n",
            "Epoch 23/30\n",
            "15/15 [==============================] - 0s 4ms/step - loss: 7.9478 - accuracy: 0.0000e+00 - val_loss: 6.3039 - val_accuracy: 0.0000e+00\n",
            "Epoch 24/30\n",
            "15/15 [==============================] - 0s 3ms/step - loss: 7.9466 - accuracy: 0.0000e+00 - val_loss: 6.3035 - val_accuracy: 0.0000e+00\n",
            "Epoch 25/30\n",
            "15/15 [==============================] - 0s 5ms/step - loss: 7.9463 - accuracy: 0.0000e+00 - val_loss: 6.3056 - val_accuracy: 0.0000e+00\n",
            "Epoch 26/30\n",
            "15/15 [==============================] - 0s 3ms/step - loss: 7.9449 - accuracy: 0.0000e+00 - val_loss: 6.2993 - val_accuracy: 0.0000e+00\n",
            "Epoch 27/30\n",
            "15/15 [==============================] - 0s 3ms/step - loss: 7.9442 - accuracy: 0.0000e+00 - val_loss: 6.2987 - val_accuracy: 0.0000e+00\n",
            "Epoch 28/30\n",
            "15/15 [==============================] - 0s 4ms/step - loss: 7.9424 - accuracy: 0.0000e+00 - val_loss: 6.2978 - val_accuracy: 0.0000e+00\n",
            "Epoch 29/30\n",
            "15/15 [==============================] - 0s 4ms/step - loss: 7.9413 - accuracy: 0.0000e+00 - val_loss: 6.2980 - val_accuracy: 0.0000e+00\n",
            "Epoch 30/30\n",
            "15/15 [==============================] - 0s 3ms/step - loss: 7.9397 - accuracy: 0.0000e+00 - val_loss: 6.2983 - val_accuracy: 0.0000e+00\n"
          ]
        }
      ]
    },
    {
      "cell_type": "code",
      "metadata": {
        "id": "5id9bUQOEsMH"
      },
      "source": [
        ""
      ],
      "execution_count": null,
      "outputs": []
    }
  ]
}