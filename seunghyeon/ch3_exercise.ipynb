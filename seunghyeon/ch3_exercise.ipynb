{
  "nbformat": 4,
  "nbformat_minor": 0,
  "metadata": {
    "colab": {
      "name": "ch3_exercise",
      "provenance": [],
      "collapsed_sections": [],
      "authorship_tag": "ABX9TyMWMWto5weZP+KgkJSr6LdY",
      "include_colab_link": true
    },
    "kernelspec": {
      "name": "python3",
      "display_name": "Python 3"
    },
    "language_info": {
      "name": "python"
    }
  },
  "cells": [
    {
      "cell_type": "markdown",
      "metadata": {
        "id": "view-in-github",
        "colab_type": "text"
      },
      "source": [
        "<a href=\"https://colab.research.google.com/github/SH22Hwang/GNU_AugumentedIntelligenceLab/blob/main/ch3_exercise.ipynb\" target=\"_parent\"><img src=\"https://colab.research.google.com/assets/colab-badge.svg\" alt=\"Open In Colab\"/></a>"
      ]
    },
    {
      "cell_type": "markdown",
      "metadata": {
        "id": "UVTCi6imyLEp"
      },
      "source": [
        "# SH22Hwang 황승현\n",
        "\n",
        "- 으뜸 머신러닝 3장 심화문제 "
      ]
    },
    {
      "cell_type": "code",
      "metadata": {
        "id": "xKkt4OvPxNy1"
      },
      "source": [
        "import numpy as np\n",
        "import pandas as pd"
      ],
      "execution_count": null,
      "outputs": []
    },
    {
      "cell_type": "code",
      "metadata": {
        "colab": {
          "base_uri": "https://localhost:8080/"
        },
        "id": "EOHKtx1j1cL0",
        "outputId": "8f743ec6-ca5e-4fe5-a789-cb50dbf1f113"
      },
      "source": [
        "arr = np.random.randint(10, size=(10000, 10000))\n",
        "print(arr, arr.shape)"
      ],
      "execution_count": null,
      "outputs": [
        {
          "output_type": "stream",
          "text": [
            "[[5 4 4 ... 4 1 9]\n",
            " [2 4 8 ... 1 2 2]\n",
            " [0 2 3 ... 2 1 0]\n",
            " ...\n",
            " [7 5 6 ... 5 4 4]\n",
            " [9 4 6 ... 5 3 3]\n",
            " [9 1 8 ... 2 1 8]] (10000, 10000)\n"
          ],
          "name": "stdout"
        }
      ]
    },
    {
      "cell_type": "code",
      "metadata": {
        "colab": {
          "base_uri": "https://localhost:8080/"
        },
        "id": "FMKaL-jS1ui4",
        "outputId": "06d536e2-69b8-4225-f746-1a473c2368ab"
      },
      "source": [
        "arr1 = arr + 1\n",
        "arr1"
      ],
      "execution_count": null,
      "outputs": [
        {
          "output_type": "execute_result",
          "data": {
            "text/plain": [
              "array([[ 6,  5,  5, ...,  5,  2, 10],\n",
              "       [ 3,  5,  9, ...,  2,  3,  3],\n",
              "       [ 1,  3,  4, ...,  3,  2,  1],\n",
              "       ...,\n",
              "       [ 8,  6,  7, ...,  6,  5,  5],\n",
              "       [10,  5,  7, ...,  6,  4,  4],\n",
              "       [10,  2,  9, ...,  3,  2,  9]])"
            ]
          },
          "metadata": {
            "tags": []
          },
          "execution_count": 45
        }
      ]
    },
    {
      "cell_type": "code",
      "metadata": {
        "colab": {
          "base_uri": "https://localhost:8080/"
        },
        "id": "9eo3npec10ET",
        "outputId": "3d8e3160-f28c-466a-883e-db1126ee4571"
      },
      "source": [
        "arr2 = arr.copy()\n",
        "arr2[::2, :10000] = 0 # 0부터 9999까지 한 개씩 건너뛰어(step=2) 0\n",
        "arr2"
      ],
      "execution_count": null,
      "outputs": [
        {
          "output_type": "execute_result",
          "data": {
            "text/plain": [
              "array([[0, 0, 0, ..., 0, 0, 0],\n",
              "       [2, 4, 8, ..., 1, 2, 2],\n",
              "       [0, 0, 0, ..., 0, 0, 0],\n",
              "       ...,\n",
              "       [7, 5, 6, ..., 5, 4, 4],\n",
              "       [0, 0, 0, ..., 0, 0, 0],\n",
              "       [9, 1, 8, ..., 2, 1, 8]])"
            ]
          },
          "metadata": {
            "tags": []
          },
          "execution_count": 46
        }
      ]
    },
    {
      "cell_type": "code",
      "metadata": {
        "colab": {
          "base_uri": "https://localhost:8080/"
        },
        "id": "Yj_g9EzH3dyb",
        "outputId": "2111d7fd-60f6-4b9c-ee6e-6082d0836504"
      },
      "source": [
        "arr3 = arr2.copy()\n",
        "arr3[:10000, 1::2] = 0\n",
        "arr3"
      ],
      "execution_count": null,
      "outputs": [
        {
          "output_type": "execute_result",
          "data": {
            "text/plain": [
              "array([[0, 0, 0, ..., 0, 0, 0],\n",
              "       [2, 0, 8, ..., 0, 2, 0],\n",
              "       [0, 0, 0, ..., 0, 0, 0],\n",
              "       ...,\n",
              "       [7, 0, 6, ..., 0, 4, 0],\n",
              "       [0, 0, 0, ..., 0, 0, 0],\n",
              "       [9, 0, 8, ..., 0, 1, 0]])"
            ]
          },
          "metadata": {
            "tags": []
          },
          "execution_count": 47
        }
      ]
    },
    {
      "cell_type": "code",
      "metadata": {
        "colab": {
          "base_uri": "https://localhost:8080/",
          "height": 266
        },
        "id": "VYG1bq5U_8K3",
        "outputId": "1882cb3a-6fd5-4501-9733-240dd6814840"
      },
      "source": [
        "name_s = pd.Series(['A', 'B', 'C', 'D', 'E', 'F', 'G'])\n",
        "horsePower_s = pd.Series([130, 250, 190, 300, 210, 220, 170])\n",
        "weight_s = pd.Series([1.9, 2.6, 2.2, 2.9, 2.4, 2.3, 2.2])\n",
        "efficiency_s = pd.Series([16.3, 10.2, 11.1, 7.1, 12.1, 13.2, 14.2])\n",
        "\n",
        "df = pd.DataFrame({'name': name_s, 'horse power': horsePower_s, 'weight': weight_s, 'efficiency': efficiency_s})\n",
        "df"
      ],
      "execution_count": null,
      "outputs": [
        {
          "output_type": "execute_result",
          "data": {
            "text/html": [
              "<div>\n",
              "<style scoped>\n",
              "    .dataframe tbody tr th:only-of-type {\n",
              "        vertical-align: middle;\n",
              "    }\n",
              "\n",
              "    .dataframe tbody tr th {\n",
              "        vertical-align: top;\n",
              "    }\n",
              "\n",
              "    .dataframe thead th {\n",
              "        text-align: right;\n",
              "    }\n",
              "</style>\n",
              "<table border=\"1\" class=\"dataframe\">\n",
              "  <thead>\n",
              "    <tr style=\"text-align: right;\">\n",
              "      <th></th>\n",
              "      <th>name</th>\n",
              "      <th>horse power</th>\n",
              "      <th>weight</th>\n",
              "      <th>efficiency</th>\n",
              "    </tr>\n",
              "  </thead>\n",
              "  <tbody>\n",
              "    <tr>\n",
              "      <th>0</th>\n",
              "      <td>A</td>\n",
              "      <td>130</td>\n",
              "      <td>1.9</td>\n",
              "      <td>16.3</td>\n",
              "    </tr>\n",
              "    <tr>\n",
              "      <th>1</th>\n",
              "      <td>B</td>\n",
              "      <td>250</td>\n",
              "      <td>2.6</td>\n",
              "      <td>10.2</td>\n",
              "    </tr>\n",
              "    <tr>\n",
              "      <th>2</th>\n",
              "      <td>C</td>\n",
              "      <td>190</td>\n",
              "      <td>2.2</td>\n",
              "      <td>11.1</td>\n",
              "    </tr>\n",
              "    <tr>\n",
              "      <th>3</th>\n",
              "      <td>D</td>\n",
              "      <td>300</td>\n",
              "      <td>2.9</td>\n",
              "      <td>7.1</td>\n",
              "    </tr>\n",
              "    <tr>\n",
              "      <th>4</th>\n",
              "      <td>E</td>\n",
              "      <td>210</td>\n",
              "      <td>2.4</td>\n",
              "      <td>12.1</td>\n",
              "    </tr>\n",
              "    <tr>\n",
              "      <th>5</th>\n",
              "      <td>F</td>\n",
              "      <td>220</td>\n",
              "      <td>2.3</td>\n",
              "      <td>13.2</td>\n",
              "    </tr>\n",
              "    <tr>\n",
              "      <th>6</th>\n",
              "      <td>G</td>\n",
              "      <td>170</td>\n",
              "      <td>2.2</td>\n",
              "      <td>14.2</td>\n",
              "    </tr>\n",
              "  </tbody>\n",
              "</table>\n",
              "</div>"
            ],
            "text/plain": [
              "  name  horse power  weight  efficiency\n",
              "0    A          130     1.9        16.3\n",
              "1    B          250     2.6        10.2\n",
              "2    C          190     2.2        11.1\n",
              "3    D          300     2.9         7.1\n",
              "4    E          210     2.4        12.1\n",
              "5    F          220     2.3        13.2\n",
              "6    G          170     2.2        14.2"
            ]
          },
          "metadata": {
            "tags": []
          },
          "execution_count": 48
        }
      ]
    },
    {
      "cell_type": "code",
      "metadata": {
        "colab": {
          "base_uri": "https://localhost:8080/",
          "height": 297
        },
        "id": "It92OrNp6Krd",
        "outputId": "38b4c1c7-f792-4eee-93d0-e808e660321d"
      },
      "source": [
        "df2 = df.set_index('name')\n",
        "df2"
      ],
      "execution_count": null,
      "outputs": [
        {
          "output_type": "execute_result",
          "data": {
            "text/html": [
              "<div>\n",
              "<style scoped>\n",
              "    .dataframe tbody tr th:only-of-type {\n",
              "        vertical-align: middle;\n",
              "    }\n",
              "\n",
              "    .dataframe tbody tr th {\n",
              "        vertical-align: top;\n",
              "    }\n",
              "\n",
              "    .dataframe thead th {\n",
              "        text-align: right;\n",
              "    }\n",
              "</style>\n",
              "<table border=\"1\" class=\"dataframe\">\n",
              "  <thead>\n",
              "    <tr style=\"text-align: right;\">\n",
              "      <th></th>\n",
              "      <th>horse power</th>\n",
              "      <th>weight</th>\n",
              "      <th>efficiency</th>\n",
              "    </tr>\n",
              "    <tr>\n",
              "      <th>name</th>\n",
              "      <th></th>\n",
              "      <th></th>\n",
              "      <th></th>\n",
              "    </tr>\n",
              "  </thead>\n",
              "  <tbody>\n",
              "    <tr>\n",
              "      <th>A</th>\n",
              "      <td>130</td>\n",
              "      <td>1.9</td>\n",
              "      <td>16.3</td>\n",
              "    </tr>\n",
              "    <tr>\n",
              "      <th>B</th>\n",
              "      <td>250</td>\n",
              "      <td>2.6</td>\n",
              "      <td>10.2</td>\n",
              "    </tr>\n",
              "    <tr>\n",
              "      <th>C</th>\n",
              "      <td>190</td>\n",
              "      <td>2.2</td>\n",
              "      <td>11.1</td>\n",
              "    </tr>\n",
              "    <tr>\n",
              "      <th>D</th>\n",
              "      <td>300</td>\n",
              "      <td>2.9</td>\n",
              "      <td>7.1</td>\n",
              "    </tr>\n",
              "    <tr>\n",
              "      <th>E</th>\n",
              "      <td>210</td>\n",
              "      <td>2.4</td>\n",
              "      <td>12.1</td>\n",
              "    </tr>\n",
              "    <tr>\n",
              "      <th>F</th>\n",
              "      <td>220</td>\n",
              "      <td>2.3</td>\n",
              "      <td>13.2</td>\n",
              "    </tr>\n",
              "    <tr>\n",
              "      <th>G</th>\n",
              "      <td>170</td>\n",
              "      <td>2.2</td>\n",
              "      <td>14.2</td>\n",
              "    </tr>\n",
              "  </tbody>\n",
              "</table>\n",
              "</div>"
            ],
            "text/plain": [
              "      horse power  weight  efficiency\n",
              "name                                 \n",
              "A             130     1.9        16.3\n",
              "B             250     2.6        10.2\n",
              "C             190     2.2        11.1\n",
              "D             300     2.9         7.1\n",
              "E             210     2.4        12.1\n",
              "F             220     2.3        13.2\n",
              "G             170     2.2        14.2"
            ]
          },
          "metadata": {
            "tags": []
          },
          "execution_count": 49
        }
      ]
    },
    {
      "cell_type": "code",
      "metadata": {
        "colab": {
          "base_uri": "https://localhost:8080/",
          "height": 297
        },
        "id": "Zn5tU38A6mY9",
        "outputId": "73bda3be-0715-4ac1-f2a2-ef118caed3b2"
      },
      "source": [
        "df2['grade'] = df2['horse power'] * df2['efficiency']\n",
        "df2"
      ],
      "execution_count": null,
      "outputs": [
        {
          "output_type": "execute_result",
          "data": {
            "text/html": [
              "<div>\n",
              "<style scoped>\n",
              "    .dataframe tbody tr th:only-of-type {\n",
              "        vertical-align: middle;\n",
              "    }\n",
              "\n",
              "    .dataframe tbody tr th {\n",
              "        vertical-align: top;\n",
              "    }\n",
              "\n",
              "    .dataframe thead th {\n",
              "        text-align: right;\n",
              "    }\n",
              "</style>\n",
              "<table border=\"1\" class=\"dataframe\">\n",
              "  <thead>\n",
              "    <tr style=\"text-align: right;\">\n",
              "      <th></th>\n",
              "      <th>horse power</th>\n",
              "      <th>weight</th>\n",
              "      <th>efficiency</th>\n",
              "      <th>grade</th>\n",
              "    </tr>\n",
              "    <tr>\n",
              "      <th>name</th>\n",
              "      <th></th>\n",
              "      <th></th>\n",
              "      <th></th>\n",
              "      <th></th>\n",
              "    </tr>\n",
              "  </thead>\n",
              "  <tbody>\n",
              "    <tr>\n",
              "      <th>A</th>\n",
              "      <td>130</td>\n",
              "      <td>1.9</td>\n",
              "      <td>16.3</td>\n",
              "      <td>2119.0</td>\n",
              "    </tr>\n",
              "    <tr>\n",
              "      <th>B</th>\n",
              "      <td>250</td>\n",
              "      <td>2.6</td>\n",
              "      <td>10.2</td>\n",
              "      <td>2550.0</td>\n",
              "    </tr>\n",
              "    <tr>\n",
              "      <th>C</th>\n",
              "      <td>190</td>\n",
              "      <td>2.2</td>\n",
              "      <td>11.1</td>\n",
              "      <td>2109.0</td>\n",
              "    </tr>\n",
              "    <tr>\n",
              "      <th>D</th>\n",
              "      <td>300</td>\n",
              "      <td>2.9</td>\n",
              "      <td>7.1</td>\n",
              "      <td>2130.0</td>\n",
              "    </tr>\n",
              "    <tr>\n",
              "      <th>E</th>\n",
              "      <td>210</td>\n",
              "      <td>2.4</td>\n",
              "      <td>12.1</td>\n",
              "      <td>2541.0</td>\n",
              "    </tr>\n",
              "    <tr>\n",
              "      <th>F</th>\n",
              "      <td>220</td>\n",
              "      <td>2.3</td>\n",
              "      <td>13.2</td>\n",
              "      <td>2904.0</td>\n",
              "    </tr>\n",
              "    <tr>\n",
              "      <th>G</th>\n",
              "      <td>170</td>\n",
              "      <td>2.2</td>\n",
              "      <td>14.2</td>\n",
              "      <td>2414.0</td>\n",
              "    </tr>\n",
              "  </tbody>\n",
              "</table>\n",
              "</div>"
            ],
            "text/plain": [
              "      horse power  weight  efficiency   grade\n",
              "name                                         \n",
              "A             130     1.9        16.3  2119.0\n",
              "B             250     2.6        10.2  2550.0\n",
              "C             190     2.2        11.1  2109.0\n",
              "D             300     2.9         7.1  2130.0\n",
              "E             210     2.4        12.1  2541.0\n",
              "F             220     2.3        13.2  2904.0\n",
              "G             170     2.2        14.2  2414.0"
            ]
          },
          "metadata": {
            "tags": []
          },
          "execution_count": 52
        }
      ]
    },
    {
      "cell_type": "code",
      "metadata": {
        "colab": {
          "base_uri": "https://localhost:8080/"
        },
        "id": "gGPTBbor8hxb",
        "outputId": "25fe6e85-2f7c-409d-9338-bc5f460a68e0"
      },
      "source": [
        "print(\"마력과 연비를 곱한 값중 최대 값을 가진 차종:\", df2[df2['grade'] == df2['grade'].max()].index[0])"
      ],
      "execution_count": null,
      "outputs": [
        {
          "output_type": "stream",
          "text": [
            "마력과 연비를 곱한 값중 최대 값을 가진 차종: F\n"
          ],
          "name": "stdout"
        }
      ]
    },
    {
      "cell_type": "code",
      "metadata": {
        "id": "19sxVMgQ8xRL"
      },
      "source": [
        ""
      ],
      "execution_count": null,
      "outputs": []
    }
  ]
}
