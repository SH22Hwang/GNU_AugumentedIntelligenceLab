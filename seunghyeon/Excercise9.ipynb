{
  "nbformat": 4,
  "nbformat_minor": 0,
  "metadata": {
    "colab": {
      "name": "Excercise9.ipynb",
      "provenance": [],
      "collapsed_sections": [],
      "authorship_tag": "ABX9TyPdxFOSMPk3H4tbZdgSHCch",
      "include_colab_link": true
    },
    "kernelspec": {
      "name": "python3",
      "display_name": "Python 3"
    },
    "language_info": {
      "name": "python"
    }
  },
  "cells": [
    {
      "cell_type": "markdown",
      "metadata": {
        "id": "view-in-github",
        "colab_type": "text"
      },
      "source": [
        "<a href=\"https://colab.research.google.com/github/SH22Hwang/GNU_AugumentedIntelligenceLab/blob/SH22Hwang-patch-1/seunghyeon/Excercise9.ipynb\" target=\"_parent\"><img src=\"https://colab.research.google.com/assets/colab-badge.svg\" alt=\"Open In Colab\"/></a>"
      ]
    },
    {
      "cell_type": "markdown",
      "metadata": {
        "id": "ddJgkyr__0vY"
      },
      "source": [
        "# 심화문제 9\n",
        "\n",
        "- sh22h 황승현"
      ]
    },
    {
      "cell_type": "markdown",
      "metadata": {
        "id": "gcXpgH65KKCj"
      },
      "source": [
        "## 심화문제 9-1\n",
        "\n",
        "> 합성곱 신경망을 사용하는 것이 완전 연결 심층 신경망을 사용하는 것보다 좋은 점을 2가지 이상 서술하라\n",
        "\n",
        "1. 희소 상호작용\n",
        "  - CNN은 국소적인 영역에 작은 필터를 적용하여 특징을 추출한다\n",
        "  - 픽셀들 사이의 관계 다룰 필요없음, 신호 사이의 연결 개수 줄임\n",
        "\n",
        "2. 파라미터 공유\n",
        "  - 적은 수의 파라미터를 모든 영역에 적용(필터)\n",
        "  - 연산량 감소\n",
        "\n",
        "3. 등변성 표현\n",
        "  - 입력에 특정한 변경을 적용하면 출력도 같은 방식으로 변함\n",
        "  - 외곽선 추출같은 함수가 어디서나 사용 가능\n"
      ]
    },
    {
      "cell_type": "markdown",
      "metadata": {
        "id": "zhERtoDJKGoJ"
      },
      "source": [
        "## 심화문제 9-2\n",
        "\n",
        "- MNIST 데이터 CNN\n",
        "- 훈련 60000, 테스트 10000\n",
        "- 필터의 크기: 3X3\n",
        "- 필터 이미지의 개수: 128개\n",
        "- 스트라이드: 2\n",
        "- 패딩: same\n",
        "- 맥스풀링할 크기: 2x2\n",
        "- 활성화 함수: ReLU\n",
        "- 정확도 98% 이상"
      ]
    },
    {
      "cell_type": "code",
      "metadata": {
        "id": "sBUp8BN9_y1k"
      },
      "source": [
        "import tensorflow as tf\n",
        "import matplotlib.pyplot as plt\n",
        "import numpy as np\n",
        "from skimage.transform import resize\n",
        "from keras import models, layers \n",
        "from keras.models import Model\n",
        "import pandas as pd\n",
        "# from tensorflow.keras.optimizers import RMSprop"
      ],
      "execution_count": 1,
      "outputs": []
    },
    {
      "cell_type": "code",
      "metadata": {
        "colab": {
          "base_uri": "https://localhost:8080/",
          "height": 265
        },
        "id": "MULxZ4RaMChK",
        "outputId": "d6f10536-137f-484a-f1a5-ed7b713fdc6b"
      },
      "source": [
        "mnist = tf.keras.datasets.mnist\n",
        "(x_train, y_train), (x_test, y_test) = mnist.load_data()\n",
        "\n",
        "# 훈련데이터는 60000개, 검증 데이터는 10000개\n",
        "x_train, x_test = x_train[:60000] / 255.0, x_test[:10000] / 255.0 # 데이터 스케일링\n",
        "y_train, y_test = y_train[:60000], y_test[:10000]\n",
        "plt.imshow(x_train[0])\n",
        "\n",
        "x_train = x_train[:, :, :, np.newaxis] # 한 차원 추가함. 데이터의 채널정보 추가\n",
        "                                       # 합성곱 신경망의 입력: 데이터 인스턴스, 데이터의 행 수, 데이터의 열 수, 채널 수\n",
        "x_test = x_test[:, :, :, np.newaxis]"
      ],
      "execution_count": 6,
      "outputs": [
        {
          "output_type": "display_data",
          "data": {
            "image/png": "[encoded data removed]",
            "text/plain": [
              "<Figure size 432x288 with 1 Axes>"
            ]
          },
          "metadata": {
            "needs_background": "light"
          }
        }
      ]
    },
    {
      "cell_type": "code",
      "metadata": {
        "colab": {
          "base_uri": "https://localhost:8080/"
        },
        "id": "rvvFibaYN2r1",
        "outputId": "f650195c-a98c-4592-a678-3e4165de4eb6"
      },
      "source": [
        "x_test.shape"
      ],
      "execution_count": 7,
      "outputs": [
        {
          "output_type": "execute_result",
          "data": {
            "text/plain": [
              "(10000, 28, 28, 1)"
            ]
          },
          "metadata": {},
          "execution_count": 7
        }
      ]
    },
    {
      "cell_type": "code",
      "metadata": {
        "id": "Csn-HG3eMu_d"
      },
      "source": [
        "model = models.Sequential([\n",
        "  layers.Conv2D(input_shape = (28, 28, 1), # MNIST 이미지의 크기 \n",
        "                kernel_size = (3,3), # 필터의 크기 3X3\n",
        "                filters = 128), # 필터 이미지의 개수 128\n",
        "\n",
        "  layers.MaxPooling2D((2, 2), strides=2), # 스트라이드: 2\n",
        "                                          # 맥스풀링할 크기: 2x2\n",
        "                                          # 이미지 반으로 줄어듦\n",
        "  layers.Conv2D(kernel_size = (3,3), padding='same', filters = 64), # 패딩 same\n",
        "\n",
        "  layers.Flatten(),\n",
        "  layers.Dense(128, activation='relu'), # 활성화 함수 ReLU\n",
        "  layers.Dense(128, activation='relu'), # 활성화 함수 ReLU\n",
        "  layers.Dense(10, activation='softmax'),\n",
        "])\n",
        "\n",
        "model.compile(optimizer='adam',\n",
        "              loss='sparse_categorical_crossentropy',\n",
        "              metrics=['accuracy'])"
      ],
      "execution_count": null,
      "outputs": []
    },
    {
      "cell_type": "code",
      "metadata": {
        "colab": {
          "base_uri": "https://localhost:8080/"
        },
        "id": "oneN0QyIQIwA",
        "outputId": "ab3c5e45-e3ac-4c5a-b53c-a29322716cab"
      },
      "source": [
        "history = model.fit(x_train, y_train, epochs=10, validation_split=0.25)"
      ],
      "execution_count": null,
      "outputs": [
        {
          "output_type": "stream",
          "name": "stdout",
          "text": [
            "Epoch 1/10\n",
            "1407/1407 [==============================] - 160s 113ms/step - loss: 0.1747 - accuracy: 0.9469 - val_loss: 0.0795 - val_accuracy: 0.9750\n",
            "Epoch 2/10\n",
            "1407/1407 [==============================] - 160s 114ms/step - loss: 0.0762 - accuracy: 0.9779 - val_loss: 0.0852 - val_accuracy: 0.9751\n",
            "Epoch 3/10\n",
            "1407/1407 [==============================] - 162s 115ms/step - loss: 0.0553 - accuracy: 0.9832 - val_loss: 0.0937 - val_accuracy: 0.9751\n",
            "Epoch 4/10\n",
            "1407/1407 [==============================] - 165s 117ms/step - loss: 0.0449 - accuracy: 0.9863 - val_loss: 0.0860 - val_accuracy: 0.9769\n",
            "Epoch 5/10\n",
            "1407/1407 [==============================] - 164s 117ms/step - loss: 0.0397 - accuracy: 0.9884 - val_loss: 0.0727 - val_accuracy: 0.9813\n",
            "Epoch 6/10\n",
            "1407/1407 [==============================] - 165s 117ms/step - loss: 0.0341 - accuracy: 0.9901 - val_loss: 0.0783 - val_accuracy: 0.9809\n",
            "Epoch 7/10\n",
            "1407/1407 [==============================] - 164s 117ms/step - loss: 0.0327 - accuracy: 0.9905 - val_loss: 0.1083 - val_accuracy: 0.9762\n",
            "Epoch 8/10\n",
            "1407/1407 [==============================] - 166s 118ms/step - loss: 0.0289 - accuracy: 0.9920 - val_loss: 0.1072 - val_accuracy: 0.9796\n",
            "Epoch 9/10\n",
            "1407/1407 [==============================] - 165s 117ms/step - loss: 0.0284 - accuracy: 0.9927 - val_loss: 0.0982 - val_accuracy: 0.9817\n",
            "Epoch 10/10\n",
            "1407/1407 [==============================] - 161s 115ms/step - loss: 0.0294 - accuracy: 0.9920 - val_loss: 0.1045 - val_accuracy: 0.9819\n"
          ]
        }
      ]
    },
    {
      "cell_type": "code",
      "metadata": {
        "colab": {
          "base_uri": "https://localhost:8080/"
        },
        "id": "YQSfT__DSPxa",
        "outputId": "212538a1-b9a7-484d-f6a1-ed6957c18c3c"
      },
      "source": [
        "history.history\n",
        "loss, acc = model.evaluate(x_test, y_test)\n",
        "\n",
        "print(f\"\"\"\n",
        "합성곱 신경망 모델의 학습결과:\n",
        "테스트 데이터의 손실값: {loss:.2f} 테스트 데이터의 정확도: {acc:.2f}\n",
        "\"\"\")"
      ],
      "execution_count": null,
      "outputs": [
        {
          "output_type": "stream",
          "name": "stdout",
          "text": [
            "313/313 [==============================] - 8s 25ms/step - loss: 0.0846 - accuracy: 0.9830\n",
            "\n",
            "합성곱 신경망 모델의 학습결과:\n",
            "테스트 데이터의 손실값: 0.08 테스트 데이터의 정확도: 0.98\n",
            "\n"
          ]
        }
      ]
    },
    {
      "cell_type": "code",
      "metadata": {
        "colab": {
          "base_uri": "https://localhost:8080/"
        },
        "id": "s6oeahgCco67",
        "outputId": "3a89661f-a02b-4428-d104-d8e35973b380"
      },
      "source": [
        "loss"
      ],
      "execution_count": null,
      "outputs": [
        {
          "output_type": "execute_result",
          "data": {
            "text/plain": [
              "0.08456005156040192"
            ]
          },
          "metadata": {},
          "execution_count": 7
        }
      ]
    },
    {
      "cell_type": "code",
      "metadata": {
        "colab": {
          "base_uri": "https://localhost:8080/"
        },
        "id": "xxNwSsPqfWkb",
        "outputId": "c1bb5f70-f3a6-44c8-e829-0907cc492a25"
      },
      "source": [
        "acc"
      ],
      "execution_count": null,
      "outputs": [
        {
          "output_type": "execute_result",
          "data": {
            "text/plain": [
              "0.9829999804496765"
            ]
          },
          "metadata": {},
          "execution_count": 8
        }
      ]
    },
    {
      "cell_type": "code",
      "metadata": {
        "id": "weZ1R7s6fXJr"
      },
      "source": [
        ""
      ],
      "execution_count": null,
      "outputs": []
    }
  ]
}