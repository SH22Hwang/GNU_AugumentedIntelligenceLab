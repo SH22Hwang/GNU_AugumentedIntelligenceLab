{
  "nbformat": 4,
  "nbformat_minor": 0,
  "metadata": {
    "colab": {
      "name": "4.2.ipynb",
      "provenance": [],
      "collapsed_sections": [],
      "authorship_tag": "ABX9TyPUIgwbKcoaKy2ejojgBgrv",
      "include_colab_link": true
    },
    "kernelspec": {
      "name": "python3",
      "display_name": "Python 3"
    },
    "language_info": {
      "name": "python"
    }
  },
  "cells": [
    {
      "cell_type": "markdown",
      "metadata": {
        "id": "view-in-github",
        "colab_type": "text"
      },
      "source": [
        "<a href=\"https://colab.research.google.com/github/SH22Hwang/GNU_AugumentedIntelligenceLab/blob/SH22Hwang-patch-1/%EC%97%84%EC%A7%80/4_2.ipynb\" target=\"_parent\"><img src=\"https://colab.research.google.com/assets/colab-badge.svg\" alt=\"Open In Colab\"/></a>"
      ]
    },
    {
      "cell_type": "code",
      "metadata": {
        "colab": {
          "base_uri": "https://localhost:8080/",
          "height": 268
        },
        "id": "VvgDYGkhrbTv",
        "outputId": "b55e366c-a3f6-4a31-f2ee-3c9f50b0f517"
      },
      "source": [
        "import pandas as pd\n",
        "import numpy as np\n",
        "from sklearn.linear_model import LinearRegression\n",
        "\n",
        "HorsePower = pd.Series([130, 250, 190, 300, 210, 220, 170])\n",
        "Weight = pd.Series([1900, 2600, 2200, 2900, 2400, 2300, 2100])\n",
        "Efficiency = pd.Series([16.3, 10.2, 11.1, 7.1, 12.1, 13.2, 14.2])\n",
        "\n",
        "PCC = pd.DataFrame({'horsePower' : HorsePower, 'weight' : Weight ,'efficiency' : Efficiency})\n",
        "PCC"
      ],
      "execution_count": null,
      "outputs": [
        {
          "output_type": "execute_result",
          "data": {
            "text/html": [
              "<div>\n",
              "<style scoped>\n",
              "    .dataframe tbody tr th:only-of-type {\n",
              "        vertical-align: middle;\n",
              "    }\n",
              "\n",
              "    .dataframe tbody tr th {\n",
              "        vertical-align: top;\n",
              "    }\n",
              "\n",
              "    .dataframe thead th {\n",
              "        text-align: right;\n",
              "    }\n",
              "</style>\n",
              "<table border=\"1\" class=\"dataframe\">\n",
              "  <thead>\n",
              "    <tr style=\"text-align: right;\">\n",
              "      <th></th>\n",
              "      <th>horsePower</th>\n",
              "      <th>weight</th>\n",
              "      <th>efficiency</th>\n",
              "    </tr>\n",
              "  </thead>\n",
              "  <tbody>\n",
              "    <tr>\n",
              "      <th>0</th>\n",
              "      <td>130</td>\n",
              "      <td>1900</td>\n",
              "      <td>16.3</td>\n",
              "    </tr>\n",
              "    <tr>\n",
              "      <th>1</th>\n",
              "      <td>250</td>\n",
              "      <td>2600</td>\n",
              "      <td>10.2</td>\n",
              "    </tr>\n",
              "    <tr>\n",
              "      <th>2</th>\n",
              "      <td>190</td>\n",
              "      <td>2200</td>\n",
              "      <td>11.1</td>\n",
              "    </tr>\n",
              "    <tr>\n",
              "      <th>3</th>\n",
              "      <td>300</td>\n",
              "      <td>2900</td>\n",
              "      <td>7.1</td>\n",
              "    </tr>\n",
              "    <tr>\n",
              "      <th>4</th>\n",
              "      <td>210</td>\n",
              "      <td>2400</td>\n",
              "      <td>12.1</td>\n",
              "    </tr>\n",
              "    <tr>\n",
              "      <th>5</th>\n",
              "      <td>220</td>\n",
              "      <td>2300</td>\n",
              "      <td>13.2</td>\n",
              "    </tr>\n",
              "    <tr>\n",
              "      <th>6</th>\n",
              "      <td>170</td>\n",
              "      <td>2100</td>\n",
              "      <td>14.2</td>\n",
              "    </tr>\n",
              "  </tbody>\n",
              "</table>\n",
              "</div>"
            ],
            "text/plain": [
              "   horsePower  weight  efficiency\n",
              "0         130    1900        16.3\n",
              "1         250    2600        10.2\n",
              "2         190    2200        11.1\n",
              "3         300    2900         7.1\n",
              "4         210    2400        12.1\n",
              "5         220    2300        13.2\n",
              "6         170    2100        14.2"
            ]
          },
          "metadata": {
            "tags": []
          },
          "execution_count": 3
        }
      ]
    },
    {
      "cell_type": "code",
      "metadata": {
        "colab": {
          "base_uri": "https://localhost:8080/"
        },
        "id": "verwYEeexg3A",
        "outputId": "0dcabb7a-5565-497d-8981-c26ddf5e65db"
      },
      "source": [
        "# 4.2.1\n",
        "x = PCC[['horsePower', 'weight']].to_numpy()\n",
        "y = PCC['efficiency'].to_numpy()\n",
        "\n",
        "LR = LinearRegression()\n",
        "result = LR.fit(x,y)\n",
        "print('계수 :', result.coef_)\n",
        "print('절편 :', result.intercept_)\n",
        "print('예측 점수 :', result.score(x,y))"
      ],
      "execution_count": null,
      "outputs": [
        {
          "output_type": "stream",
          "text": [
            "계수 : [-0.00689189 -0.00731081]\n",
            "절편 : 30.60405405405405\n",
            "예측 점수 : 0.887125404119239\n"
          ],
          "name": "stdout"
        }
      ]
    },
    {
      "cell_type": "code",
      "metadata": {
        "colab": {
          "base_uri": "https://localhost:8080/"
        },
        "id": "3uKZGx3_ymvo",
        "outputId": "05023108-1c21-4b2f-c916-457eab424cab"
      },
      "source": [
        "# 4.2.2\n",
        "## y = w1*x1 + w2*x2 + b\n",
        "w1 = result.coef_[0]\n",
        "w2 = result.coef_[1]\n",
        "x1 = 270\n",
        "x2 = 2500\n",
        "b = result.intercept_\n",
        "\n",
        "predict_score = w1*x1 + w2*x2 + b\n",
        "\n",
        "print('270 마력 2500kg 자동차의 예상 연비 : {:.2f}'.format(float(predict_score)), 'km/l')"
      ],
      "execution_count": null,
      "outputs": [
        {
          "output_type": "stream",
          "text": [
            "270 마력 2500kg 자동차의 예상 연비 : 10.47 km/l\n"
          ],
          "name": "stdout"
        }
      ]
    },
    {
      "cell_type": "code",
      "metadata": {
        "colab": {
          "base_uri": "https://localhost:8080/",
          "height": 550
        },
        "id": "3Njp8-4h5D0A",
        "outputId": "23aa31c6-bde1-45b0-ee5c-c4f281f3da2d"
      },
      "source": [
        "# 4.2.3\n",
        "import matplotlib.pyplot as plt\n",
        "import seaborn as sns\n",
        "\n",
        "sns.pairplot(PCC[['horsePower', 'weight', 'efficiency']])\n",
        "plt.show()"
      ],
      "execution_count": null,
      "outputs": [
        {
          "output_type": "display_data",
          "data": {
            "image/png": "[encoded data removed]",
            "text/plain": [
              "<Figure size 540x540 with 12 Axes>"
            ]
          },
          "metadata": {
            "tags": [],
            "needs_background": "light"
          }
        }
      ]
    },
    {
      "cell_type": "code",
      "metadata": {
        "colab": {
          "base_uri": "https://localhost:8080/",
          "height": 217
        },
        "id": "10uVzlaO2-KA",
        "outputId": "4a7c6a17-9446-48a3-e43a-d3994841683b"
      },
      "source": [
        "# 4.2.4\n",
        "import matplotlib.pyplot as plt\n",
        "import seaborn as sns\n",
        "\n",
        "sns.set(rc={'figure.figsize':(5,3)})\n",
        "correlation_matrix = PCC.corr().round(2)\n",
        "sns.heatmap(data=correlation_matrix, annot=True)\n",
        "plt.show()"
      ],
      "execution_count": null,
      "outputs": [
        {
          "output_type": "display_data",
          "data": {
            "image/png": "[encoded data removed]",
            "text/plain": [
              "<Figure size 360x216 with 2 Axes>"
            ]
          },
          "metadata": {
            "tags": []
          }
        }
      ]
    },
    {
      "cell_type": "code",
      "metadata": {
        "id": "12lLGUd36Opg"
      },
      "source": [
        "# 4.2.5\n",
        "# 마력, 총중량 ↑ - 연비 ↓\n",
        "# 마력 - 총중량은 강한 양적 상관관계를 가짐"
      ],
      "execution_count": null,
      "outputs": []
    }
  ]
}